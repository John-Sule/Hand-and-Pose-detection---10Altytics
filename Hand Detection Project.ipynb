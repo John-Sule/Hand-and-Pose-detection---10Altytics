{
 "cells": [
  {
   "cell_type": "markdown",
   "id": "0f5650e4-b728-4071-984d-771e07c64e67",
   "metadata": {},
   "source": [
    "## HAND DETECTION PROJECT"
   ]
  },
  {
   "cell_type": "code",
   "execution_count": 1,
   "id": "c1cfc233-b74a-4d01-9553-1bb4e7640dfa",
   "metadata": {},
   "outputs": [
    {
     "name": "stdout",
     "output_type": "stream",
     "text": [
      "Requirement already satisfied: mediapipe in c:\\users\\johns\\anaconda3\\lib\\site-packages (0.10.10)\n",
      "Requirement already satisfied: absl-py in c:\\users\\johns\\anaconda3\\lib\\site-packages (from mediapipe) (2.1.0)\n",
      "Requirement already satisfied: attrs>=19.1.0 in c:\\users\\johns\\anaconda3\\lib\\site-packages (from mediapipe) (23.1.0)\n",
      "Requirement already satisfied: flatbuffers>=2.0 in c:\\users\\johns\\anaconda3\\lib\\site-packages (from mediapipe) (23.5.26)\n",
      "Requirement already satisfied: jax in c:\\users\\johns\\anaconda3\\lib\\site-packages (from mediapipe) (0.4.25)\n",
      "Requirement already satisfied: matplotlib in c:\\users\\johns\\anaconda3\\lib\\site-packages (from mediapipe) (3.8.0)\n",
      "Requirement already satisfied: numpy in c:\\users\\johns\\anaconda3\\lib\\site-packages (from mediapipe) (1.26.4)\n",
      "Requirement already satisfied: opencv-contrib-python in c:\\users\\johns\\anaconda3\\lib\\site-packages (from mediapipe) (4.9.0.80)\n",
      "Requirement already satisfied: protobuf<4,>=3.11 in c:\\users\\johns\\anaconda3\\lib\\site-packages (from mediapipe) (3.20.3)\n",
      "Requirement already satisfied: sounddevice>=0.4.4 in c:\\users\\johns\\anaconda3\\lib\\site-packages (from mediapipe) (0.4.6)\n",
      "Requirement already satisfied: CFFI>=1.0 in c:\\users\\johns\\anaconda3\\lib\\site-packages (from sounddevice>=0.4.4->mediapipe) (1.16.0)\n",
      "Requirement already satisfied: ml-dtypes>=0.2.0 in c:\\users\\johns\\anaconda3\\lib\\site-packages (from jax->mediapipe) (0.3.2)\n",
      "Requirement already satisfied: opt-einsum in c:\\users\\johns\\anaconda3\\lib\\site-packages (from jax->mediapipe) (3.3.0)\n",
      "Requirement already satisfied: scipy>=1.9 in c:\\users\\johns\\anaconda3\\lib\\site-packages (from jax->mediapipe) (1.11.4)\n",
      "Requirement already satisfied: contourpy>=1.0.1 in c:\\users\\johns\\anaconda3\\lib\\site-packages (from matplotlib->mediapipe) (1.2.0)\n",
      "Requirement already satisfied: cycler>=0.10 in c:\\users\\johns\\anaconda3\\lib\\site-packages (from matplotlib->mediapipe) (0.11.0)\n",
      "Requirement already satisfied: fonttools>=4.22.0 in c:\\users\\johns\\anaconda3\\lib\\site-packages (from matplotlib->mediapipe) (4.25.0)\n",
      "Requirement already satisfied: kiwisolver>=1.0.1 in c:\\users\\johns\\anaconda3\\lib\\site-packages (from matplotlib->mediapipe) (1.4.4)\n",
      "Requirement already satisfied: packaging>=20.0 in c:\\users\\johns\\anaconda3\\lib\\site-packages (from matplotlib->mediapipe) (23.1)\n",
      "Requirement already satisfied: pillow>=6.2.0 in c:\\users\\johns\\anaconda3\\lib\\site-packages (from matplotlib->mediapipe) (10.2.0)\n",
      "Requirement already satisfied: pyparsing>=2.3.1 in c:\\users\\johns\\anaconda3\\lib\\site-packages (from matplotlib->mediapipe) (3.0.9)\n",
      "Requirement already satisfied: python-dateutil>=2.7 in c:\\users\\johns\\anaconda3\\lib\\site-packages (from matplotlib->mediapipe) (2.8.2)\n",
      "Requirement already satisfied: pycparser in c:\\users\\johns\\anaconda3\\lib\\site-packages (from CFFI>=1.0->sounddevice>=0.4.4->mediapipe) (2.21)\n",
      "Requirement already satisfied: six>=1.5 in c:\\users\\johns\\anaconda3\\lib\\site-packages (from python-dateutil>=2.7->matplotlib->mediapipe) (1.16.0)\n"
     ]
    }
   ],
   "source": [
    "!pip install mediapipe"
   ]
  },
  {
   "cell_type": "code",
   "execution_count": 2,
   "id": "b7c90699-3fd8-49ff-a8b9-61c9912be1ba",
   "metadata": {},
   "outputs": [],
   "source": [
    "# Step 1 - import all necessary libraries\n",
    "import cv2\n",
    "import mediapipe as mp"
   ]
  },
  {
   "cell_type": "code",
   "execution_count": 3,
   "id": "53dfaefc-7694-49be-b3e5-dd198375522f",
   "metadata": {},
   "outputs": [],
   "source": [
    "# Step 2 - Identify your webcam\n",
    "\n",
    "cap = cv2.VideoCapture(0) # Local webcam = 0, External webcam = 1"
   ]
  },
  {
   "cell_type": "code",
   "execution_count": 4,
   "id": "ca6f8ca0-1db9-49eb-9140-9a0237b6575c",
   "metadata": {},
   "outputs": [],
   "source": [
    "# Step 4 - Leveraging the Mediapipe library used for hand detection\n",
    "\n",
    "mpHands = mp.solutions.hands\n",
    "hands = mpHands.Hands()\n",
    "mpDraw = mp.solutions.drawing_utils"
   ]
  },
  {
   "cell_type": "code",
   "execution_count": 5,
   "id": "43fa0e16-3f0e-4969-82b0-6fb60093a8b4",
   "metadata": {
    "scrolled": false
   },
   "outputs": [],
   "source": [
    "# Step 3: Switch on the webcam\n",
    "\n",
    "while True:\n",
    "    _,img = cap.read()\n",
    "    \n",
    "    # Convert image from BG to RGB\n",
    "    imgRGB = cv2.cvtColor(img, cv2.COLOR_BGR2RGB)\n",
    "    \n",
    "    # Apply mediapipe\n",
    "    results = hands.process(imgRGB)\n",
    "\n",
    "    # print(results.multi_hand_landmarks)\n",
    "    \n",
    "    if results.multi_hand_landmarks:\n",
    "        for handLms in results.multi_hand_landmarks:\n",
    "            for id, lm in enumerate(handLms.landmark):\n",
    "                # print(id, lm)\n",
    "                \n",
    "                mpDraw.draw_landmarks(img, handLms, mpHands.HAND_CONNECTIONS)\n",
    "                \n",
    "    cv2.putText(img, 'Hand Detection Program', (10, 70), cv2.FONT_HERSHEY_PLAIN, 3, (255, 255, 255), 2)\n",
    "    cv2.imshow(\"10Alytics Hand detection project\", img)\n",
    "    if cv2.waitKey(1) & 0xFF == ord('g'):\n",
    "        break\n",
    "\n",
    "# Release the capture once all the processing is done\n",
    "cap.release()\n",
    "cv2.destroyAllWindows()"
   ]
  },
  {
   "cell_type": "code",
   "execution_count": null,
   "id": "3a2a7030-c939-4e28-83db-082b81d20c8d",
   "metadata": {},
   "outputs": [],
   "source": []
  },
  {
   "cell_type": "code",
   "execution_count": null,
   "id": "5b250134-2cc7-42eb-962c-1799996e4efd",
   "metadata": {},
   "outputs": [],
   "source": []
  },
  {
   "cell_type": "code",
   "execution_count": null,
   "id": "7a205095-bc45-42cd-82e0-4c4a714dba67",
   "metadata": {},
   "outputs": [],
   "source": []
  },
  {
   "cell_type": "code",
   "execution_count": null,
   "id": "614d1600-5beb-4fb9-b4f3-932caee82039",
   "metadata": {},
   "outputs": [],
   "source": []
  }
 ],
 "metadata": {
  "kernelspec": {
   "display_name": "Python 3 (ipykernel)",
   "language": "python",
   "name": "python3"
  },
  "language_info": {
   "codemirror_mode": {
    "name": "ipython",
    "version": 3
   },
   "file_extension": ".py",
   "mimetype": "text/x-python",
   "name": "python",
   "nbconvert_exporter": "python",
   "pygments_lexer": "ipython3",
   "version": "3.11.5"
  }
 },
 "nbformat": 4,
 "nbformat_minor": 5
}
